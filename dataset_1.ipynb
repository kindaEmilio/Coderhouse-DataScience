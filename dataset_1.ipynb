{
 "cells": [
  {
   "attachments": {},
   "cell_type": "markdown",
   "metadata": {},
   "source": [
    "El siguiente dataset corresponde a un sitio en el que se recopilo información acerca de expectativas y puntos de refeerncia sobre cuando comprar o que comprar en el mercado de valores, basado en una población que pensaba ganarle al mercado a tracés de un guru de las finanzas\n",
    "\n",
    "- Solo se consideran acciones de US\n",
    "- Fill Rate es del 95%"
   ]
  },
  {
   "cell_type": "code",
   "execution_count": 1,
   "metadata": {},
   "outputs": [],
   "source": [
    "import pandas as pd"
   ]
  },
  {
   "cell_type": "code",
   "execution_count": 2,
   "metadata": {},
   "outputs": [
    {
     "name": "stdout",
     "output_type": "stream",
     "text": [
      "        S.No                Company Ticker        Date              Call  \\\n",
      "0          1   Lululemon Athletica    LULU   27/3/2018  Positive Mention   \n",
      "1          2  Penn National Gaming    PENN   14/7/2020               Buy   \n",
      "2          3  Simon Property Group     SPG  13/11/2020               Buy   \n",
      "3          4              PVH Corp     PVH   25/5/2016               Buy   \n",
      "4          5              Broadcom    AVGO    2/6/2016  Positive Mention   \n",
      "...      ...                    ...    ...         ...               ...   \n",
      "21649  21650          Not Available      F  22/11/2022  Negative Mention   \n",
      "21650  21651          Not Available     EL  22/11/2022               Buy   \n",
      "21651  21652          Not Available   SHOP  22/11/2022  Positive Mention   \n",
      "21652  21653          Not Available   IMGN  22/11/2022  Negative Mention   \n",
      "21653  21654          Not Available    DIS  21/11/2022  Positive Mention   \n",
      "\n",
      "      1-Day Change Recommendation 1-Week Change Recommendation  \\\n",
      "0                            2.0%                         2.7%   \n",
      "1                           10.3%                         4.4%   \n",
      "2                           -1.2%                         8.2%   \n",
      "3                           -2.5%                         3.8%   \n",
      "4                           -1.9%                        -1.1%   \n",
      "...                           ...                          ...   \n",
      "21649                        0.2%                        -0.9%   \n",
      "21650                       -0.1%                         6.2%   \n",
      "21651                        4.0%                        11.2%   \n",
      "21652                       -3.2%                         0.6%   \n",
      "21653                       -0.8%                        -1.6%   \n",
      "\n",
      "      1-Month Change Recommendation 1-Year Change Recommendation  \\\n",
      "0                             15.4%                          95%   \n",
      "1                             52.5%                         100%   \n",
      "2                             10.6%                         121%   \n",
      "3                             -9.4%                          13%   \n",
      "4                             -7.0%                          58%   \n",
      "...                             ...                          ...   \n",
      "21649                        -19.0%                          NaN   \n",
      "21650                          8.6%                          NaN   \n",
      "21651                         -8.3%                          NaN   \n",
      "21652                         -9.7%                          NaN   \n",
      "21653                         -9.9%                          NaN   \n",
      "\n",
      "      1-Day Change Benchmark 1-Week Change Benchmark 1-Month Change Benchmark  \\\n",
      "0                      -0.4%                    1.4%                       3%   \n",
      "1                      -0.2%                    1.6%                       5%   \n",
      "2                       0.4%                   -1.4%                       1%   \n",
      "3                       0.0%                    0.7%                      -4%   \n",
      "4                       0.0%                   -0.1%                       0%   \n",
      "...                      ...                     ...                      ...   \n",
      "21649                    NaN                     NaN                      NaN   \n",
      "21650                    NaN                     NaN                      NaN   \n",
      "21651                    NaN                     NaN                      NaN   \n",
      "21652                    NaN                     NaN                      NaN   \n",
      "21653                    NaN                     NaN                      NaN   \n",
      "\n",
      "      1-Year Change Benchmark  \n",
      "0                         10%  \n",
      "1                         37%  \n",
      "2                         31%  \n",
      "3                         18%  \n",
      "4                         18%  \n",
      "...                       ...  \n",
      "21649                     NaN  \n",
      "21650                     NaN  \n",
      "21651                     NaN  \n",
      "21652                     NaN  \n",
      "21653                     NaN  \n",
      "\n",
      "[21654 rows x 13 columns]\n"
     ]
    }
   ],
   "source": [
    "cramers_picks = pd.read_csv('/workspaces/codespaces-jupyter/data/Cramers Picks (2016 to 2022) Performance v2.csv')\n",
    "print(cramers_picks)"
   ]
  },
  {
   "cell_type": "code",
   "execution_count": 3,
   "metadata": {},
   "outputs": [
    {
     "name": "stdout",
     "output_type": "stream",
     "text": [
      "<class 'pandas.core.frame.DataFrame'>\n",
      "RangeIndex: 21654 entries, 0 to 21653\n",
      "Data columns (total 13 columns):\n",
      " #   Column                         Non-Null Count  Dtype \n",
      "---  ------                         --------------  ----- \n",
      " 0   S.No                           21654 non-null  int64 \n",
      " 1   Company                        21654 non-null  object\n",
      " 2   Ticker                         21654 non-null  object\n",
      " 3   Date                           21654 non-null  object\n",
      " 4   Call                           21654 non-null  object\n",
      " 5   1-Day Change Recommendation    21629 non-null  object\n",
      " 6   1-Week Change Recommendation   21548 non-null  object\n",
      " 7   1-Month Change Recommendation  21410 non-null  object\n",
      " 8   1-Year Change Recommendation   19924 non-null  object\n",
      " 9   1-Day Change Benchmark         21419 non-null  object\n",
      " 10  1-Week Change Benchmark        21419 non-null  object\n",
      " 11  1-Month Change Benchmark       21419 non-null  object\n",
      " 12  1-Year Change Benchmark        21419 non-null  object\n",
      "dtypes: int64(1), object(12)\n",
      "memory usage: 2.1+ MB\n",
      "None\n"
     ]
    }
   ],
   "source": [
    "print(cramers_picks.info())"
   ]
  },
  {
   "attachments": {},
   "cell_type": "markdown",
   "metadata": {},
   "source": [
    "#### Las potencialemnte intereantes\n",
    "\n",
    "- Date: nos permitirá ver \n",
    "- Call: Se tienen diferentes opciones como mención psotiva, comprar, o mención negativa, esto nos deja ver las epectativas que se tenian sobre un stock \n",
    "- 1 Month Change Reccomendation junto con el respectivo de punto de referencia (Benchmark) para ver si se cumplieron las expectativas"
   ]
  }
 ],
 "metadata": {
  "kernelspec": {
   "display_name": "Python 3.10.4 64-bit",
   "language": "python",
   "name": "python3"
  },
  "language_info": {
   "codemirror_mode": {
    "name": "ipython",
    "version": 3
   },
   "file_extension": ".py",
   "mimetype": "text/x-python",
   "name": "python",
   "nbconvert_exporter": "python",
   "pygments_lexer": "ipython3",
   "version": "3.10.4 (main, Jan 13 2023, 23:02:35) [GCC 9.4.0]"
  },
  "vscode": {
   "interpreter": {
    "hash": "3ad933181bd8a04b432d3370b9dc3b0662ad032c4dfaa4e4f1596c548f763858"
   }
  }
 },
 "nbformat": 4,
 "nbformat_minor": 4
}
